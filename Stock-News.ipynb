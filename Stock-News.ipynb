{
 "cells": [
  {
   "cell_type": "code",
   "execution_count": 3,
   "metadata": {},
   "outputs": [
    {
     "name": "stdout",
     "output_type": "stream",
     "text": [
      "Collecting python-dotenv\n",
      "  Downloading python_dotenv-1.0.1-py3-none-any.whl.metadata (23 kB)\n",
      "Downloading python_dotenv-1.0.1-py3-none-any.whl (19 kB)\n",
      "Installing collected packages: python-dotenv\n",
      "Successfully installed python-dotenv-1.0.1\n"
     ]
    }
   ],
   "source": [
    "# !pip install stocknews\n",
    "# !pip install python-dotenv"
   ]
  },
  {
   "cell_type": "code",
   "execution_count": 4,
   "metadata": {},
   "outputs": [],
   "source": [
    "from stocknews import StockNews as stkn\n",
    "import os\n",
    "from dotenv import load_dotenv"
   ]
  },
  {
   "cell_type": "code",
   "execution_count": 12,
   "metadata": {},
   "outputs": [],
   "source": [
    "import pandas as pd"
   ]
  },
  {
   "cell_type": "code",
   "execution_count": 5,
   "metadata": {},
   "outputs": [
    {
     "data": {
      "text/plain": [
       "True"
      ]
     },
     "execution_count": 5,
     "metadata": {},
     "output_type": "execute_result"
    }
   ],
   "source": [
    "load_dotenv()"
   ]
  },
  {
   "cell_type": "code",
   "execution_count": 7,
   "metadata": {},
   "outputs": [],
   "source": [
    "MARKET_API = os.getenv('MARKET_API')"
   ]
  },
  {
   "cell_type": "code",
   "execution_count": 17,
   "metadata": {},
   "outputs": [],
   "source": [
    "stock = ['INFY.NS']\n",
    "sn = stkn(stock, wt_key=MARKET_API, save_news=True)"
   ]
  },
  {
   "cell_type": "code",
   "execution_count": 18,
   "metadata": {},
   "outputs": [],
   "source": [
    "df = sn.summarize()"
   ]
  },
  {
   "cell_type": "code",
   "execution_count": 23,
   "metadata": {},
   "outputs": [],
   "source": [
    "df_new = pd.DataFrame(df[0]) "
   ]
  },
  {
   "cell_type": "code",
   "execution_count": 24,
   "metadata": {},
   "outputs": [
    {
     "data": {
      "text/html": [
       "<div>\n",
       "<style scoped>\n",
       "    .dataframe tbody tr th:only-of-type {\n",
       "        vertical-align: middle;\n",
       "    }\n",
       "\n",
       "    .dataframe tbody tr th {\n",
       "        vertical-align: top;\n",
       "    }\n",
       "\n",
       "    .dataframe thead th {\n",
       "        text-align: right;\n",
       "    }\n",
       "</style>\n",
       "<table border=\"1\" class=\"dataframe\">\n",
       "  <thead>\n",
       "    <tr style=\"text-align: right;\">\n",
       "      <th></th>\n",
       "      <th>id</th>\n",
       "      <th>stock</th>\n",
       "      <th>news_dt</th>\n",
       "      <th>check_day</th>\n",
       "      <th>open</th>\n",
       "      <th>close</th>\n",
       "      <th>high</th>\n",
       "      <th>low</th>\n",
       "      <th>volume</th>\n",
       "      <th>change</th>\n",
       "      <th>sentiment_summary_avg</th>\n",
       "      <th>sentiment_summary_med</th>\n",
       "      <th>sentiment_title_avg</th>\n",
       "      <th>sentiment_title_med</th>\n",
       "    </tr>\n",
       "  </thead>\n",
       "  <tbody>\n",
       "    <tr>\n",
       "      <th>0</th>\n",
       "      <td>INFY.NS_2024-06-20</td>\n",
       "      <td>INFY.NS</td>\n",
       "      <td>2024-06-20 13:42:00</td>\n",
       "      <td>2024-06-20</td>\n",
       "      <td>0</td>\n",
       "      <td>0</td>\n",
       "      <td>0</td>\n",
       "      <td>0</td>\n",
       "      <td>0</td>\n",
       "      <td>UNCHECKED</td>\n",
       "      <td>0.4939</td>\n",
       "      <td>0.4939</td>\n",
       "      <td>0.0000</td>\n",
       "      <td>0.0000</td>\n",
       "    </tr>\n",
       "    <tr>\n",
       "      <th>1</th>\n",
       "      <td>INFY.NS_2024-06-18</td>\n",
       "      <td>INFY.NS</td>\n",
       "      <td>2024-06-18 10:24:00</td>\n",
       "      <td>2024-06-18</td>\n",
       "      <td>0</td>\n",
       "      <td>0</td>\n",
       "      <td>0</td>\n",
       "      <td>0</td>\n",
       "      <td>0</td>\n",
       "      <td>UNCHECKED</td>\n",
       "      <td>0.8591</td>\n",
       "      <td>0.8591</td>\n",
       "      <td>0.7906</td>\n",
       "      <td>0.7906</td>\n",
       "    </tr>\n",
       "    <tr>\n",
       "      <th>2</th>\n",
       "      <td>INFY.NS_2024-06-17</td>\n",
       "      <td>INFY.NS</td>\n",
       "      <td>2024-06-17 23:58:03</td>\n",
       "      <td>2024-06-18</td>\n",
       "      <td>0</td>\n",
       "      <td>0</td>\n",
       "      <td>0</td>\n",
       "      <td>0</td>\n",
       "      <td>0</td>\n",
       "      <td>UNCHECKED</td>\n",
       "      <td>0.8316</td>\n",
       "      <td>0.8316</td>\n",
       "      <td>0.7964</td>\n",
       "      <td>0.7964</td>\n",
       "    </tr>\n",
       "    <tr>\n",
       "      <th>3</th>\n",
       "      <td>INFY.NS_2024-06-16</td>\n",
       "      <td>INFY.NS</td>\n",
       "      <td>2024-06-16 15:00:00</td>\n",
       "      <td>2024-06-17</td>\n",
       "      <td>0</td>\n",
       "      <td>0</td>\n",
       "      <td>0</td>\n",
       "      <td>0</td>\n",
       "      <td>0</td>\n",
       "      <td>UNCHECKED</td>\n",
       "      <td>0.7964</td>\n",
       "      <td>0.7964</td>\n",
       "      <td>0.0000</td>\n",
       "      <td>0.0000</td>\n",
       "    </tr>\n",
       "    <tr>\n",
       "      <th>4</th>\n",
       "      <td>INFY.NS_2024-06-13</td>\n",
       "      <td>INFY.NS</td>\n",
       "      <td>2024-06-13 14:00:02</td>\n",
       "      <td>2024-06-13</td>\n",
       "      <td>0</td>\n",
       "      <td>0</td>\n",
       "      <td>0</td>\n",
       "      <td>0</td>\n",
       "      <td>0</td>\n",
       "      <td>UNCHECKED</td>\n",
       "      <td>0.4659</td>\n",
       "      <td>0.4659</td>\n",
       "      <td>0.0000</td>\n",
       "      <td>0.0000</td>\n",
       "    </tr>\n",
       "  </tbody>\n",
       "</table>\n",
       "</div>"
      ],
      "text/plain": [
       "                   id    stock              news_dt   check_day  open  close  \\\n",
       "0  INFY.NS_2024-06-20  INFY.NS  2024-06-20 13:42:00  2024-06-20     0      0   \n",
       "1  INFY.NS_2024-06-18  INFY.NS  2024-06-18 10:24:00  2024-06-18     0      0   \n",
       "2  INFY.NS_2024-06-17  INFY.NS  2024-06-17 23:58:03  2024-06-18     0      0   \n",
       "3  INFY.NS_2024-06-16  INFY.NS  2024-06-16 15:00:00  2024-06-17     0      0   \n",
       "4  INFY.NS_2024-06-13  INFY.NS  2024-06-13 14:00:02  2024-06-13     0      0   \n",
       "\n",
       "   high  low  volume     change  sentiment_summary_avg  sentiment_summary_med  \\\n",
       "0     0    0       0  UNCHECKED                 0.4939                 0.4939   \n",
       "1     0    0       0  UNCHECKED                 0.8591                 0.8591   \n",
       "2     0    0       0  UNCHECKED                 0.8316                 0.8316   \n",
       "3     0    0       0  UNCHECKED                 0.7964                 0.7964   \n",
       "4     0    0       0  UNCHECKED                 0.4659                 0.4659   \n",
       "\n",
       "   sentiment_title_avg  sentiment_title_med  \n",
       "0               0.0000               0.0000  \n",
       "1               0.7906               0.7906  \n",
       "2               0.7964               0.7964  \n",
       "3               0.0000               0.0000  \n",
       "4               0.0000               0.0000  "
      ]
     },
     "execution_count": 24,
     "metadata": {},
     "output_type": "execute_result"
    }
   ],
   "source": [
    "df_new.head()"
   ]
  },
  {
   "cell_type": "code",
   "execution_count": 25,
   "metadata": {},
   "outputs": [
    {
     "name": "stdout",
     "output_type": "stream",
     "text": [
      "<class 'pandas.core.frame.DataFrame'>\n",
      "RangeIndex: 17 entries, 0 to 16\n",
      "Data columns (total 14 columns):\n",
      " #   Column                 Non-Null Count  Dtype  \n",
      "---  ------                 --------------  -----  \n",
      " 0   id                     17 non-null     object \n",
      " 1   stock                  17 non-null     object \n",
      " 2   news_dt                17 non-null     object \n",
      " 3   check_day              17 non-null     object \n",
      " 4   open                   17 non-null     int64  \n",
      " 5   close                  17 non-null     int64  \n",
      " 6   high                   17 non-null     int64  \n",
      " 7   low                    17 non-null     int64  \n",
      " 8   volume                 17 non-null     int64  \n",
      " 9   change                 17 non-null     object \n",
      " 10  sentiment_summary_avg  17 non-null     float64\n",
      " 11  sentiment_summary_med  17 non-null     float64\n",
      " 12  sentiment_title_avg    17 non-null     float64\n",
      " 13  sentiment_title_med    17 non-null     float64\n",
      "dtypes: float64(4), int64(5), object(5)\n",
      "memory usage: 2.0+ KB\n"
     ]
    }
   ],
   "source": [
    "df_new.info()"
   ]
  },
  {
   "cell_type": "code",
   "execution_count": null,
   "metadata": {},
   "outputs": [],
   "source": []
  }
 ],
 "metadata": {
  "kernelspec": {
   "display_name": "pytorch",
   "language": "python",
   "name": "python3"
  },
  "language_info": {
   "codemirror_mode": {
    "name": "ipython",
    "version": 3
   },
   "file_extension": ".py",
   "mimetype": "text/x-python",
   "name": "python",
   "nbconvert_exporter": "python",
   "pygments_lexer": "ipython3",
   "version": "3.10.14"
  }
 },
 "nbformat": 4,
 "nbformat_minor": 2
}
