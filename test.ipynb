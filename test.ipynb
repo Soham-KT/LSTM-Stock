{
 "cells": [
  {
   "cell_type": "code",
   "execution_count": 1,
   "metadata": {},
   "outputs": [],
   "source": [
    "import yfinance as yf"
   ]
  },
  {
   "cell_type": "code",
   "execution_count": 79,
   "metadata": {},
   "outputs": [
    {
     "data": {
      "text/plain": [
       "{'address1': 'Plot No. 44/97 A',\n",
       " 'address2': '3rd cross Electronic City Hosur Road',\n",
       " 'city': 'Bengaluru',\n",
       " 'zip': '560100',\n",
       " 'country': 'India',\n",
       " 'phone': '91 80 2852 0261',\n",
       " 'fax': '91 80 2852 0362',\n",
       " 'website': 'https://www.infosys.com',\n",
       " 'industry': 'Information Technology Services',\n",
       " 'industryKey': 'information-technology-services',\n",
       " 'industryDisp': 'Information Technology Services',\n",
       " 'sector': 'Technology',\n",
       " 'sectorKey': 'technology',\n",
       " 'sectorDisp': 'Technology',\n",
       " 'longBusinessSummary': \"Infosys Limited, together with its subsidiaries, provides consulting, technology, outsourcing, and next-generation digital services in North America, Europe, India, and internationally. It provides digital marketing and digital workplace, digital commerce, digital experience and interactions, metaverse, data analytics and AI, applied AI, generative AI, sustainability, blockchain, engineering, Internet of Things, enterprise agile DevOps, application modernization, cloud, digital process automation, digital supply chain, Microsoft business application and cloud business, service experience transformation, energy transition, cyber security, and quality engineering solutions; Oracle, SAP, and Saleforce solutions; API economy and microservices; and Topaz, an AI-first set of services, solutions, and platforms using generative AI technologies. The company's products and platforms include Finacle, a core banking solution; Edge suite of products; Panaya platform, Infosys Equinox, Infosys Helix, Infosys Applied AI, Infosys Cortex, and Stater digital platforms; and Infosys McCamish, an insurance platform. It serves aerospace and defense, agriculture, automotive, chemical manufacturing, communication, consumer packaged goods, education, engineering procurement and construction, healthcare, high technology, industrial manufacturing, information services and publishing, insurance, life science, logistics and distribution, media, entertainment, mining, oil and gas, private equity, professional, public, retail, travel, hospitality, utilities, and waste management industries. The company was formerly known as Infosys Technologies Limited and changed its name to Infosys Limited in June 2011. Infosys Limited was incorporated in 1981 and is headquartered in Bengaluru, India.\",\n",
       " 'fullTimeEmployees': 317240,\n",
       " 'companyOfficers': [{'maxAge': 1,\n",
       "   'name': 'Mr. Nandan M. Nilekani',\n",
       "   'age': 67,\n",
       "   'title': 'Co-Founder & Chairman',\n",
       "   'yearBorn': 1956,\n",
       "   'exercisedValue': 0,\n",
       "   'unexercisedValue': 0},\n",
       "  {'maxAge': 1,\n",
       "   'name': 'Mr. Salil Satish Parekh',\n",
       "   'age': 59,\n",
       "   'title': 'MD, CEO & Director',\n",
       "   'yearBorn': 1964,\n",
       "   'fiscalYear': 2023,\n",
       "   'totalPay': 3189282,\n",
       "   'exercisedValue': 0,\n",
       "   'unexercisedValue': 0},\n",
       "  {'maxAge': 1,\n",
       "   'name': 'Mr. Anand  Swaminathan',\n",
       "   'title': 'Executive VP and Segment Head of Communication, Media & Technology',\n",
       "   'fiscalYear': 2023,\n",
       "   'exercisedValue': 0,\n",
       "   'unexercisedValue': 0},\n",
       "  {'maxAge': 1,\n",
       "   'name': 'Ms. Inderpreet  Sawhney',\n",
       "   'age': 58,\n",
       "   'title': 'Executive VP, Group General Counsel & Chief Compliance Officer',\n",
       "   'yearBorn': 1965,\n",
       "   'fiscalYear': 2023,\n",
       "   'totalPay': 1149837,\n",
       "   'exercisedValue': 0,\n",
       "   'unexercisedValue': 0},\n",
       "  {'maxAge': 1,\n",
       "   'name': 'Mr. Shaji  Mathew',\n",
       "   'age': 52,\n",
       "   'title': 'Group Head of HR, Exec VP & Svc Offering Head of Fin Svcs, Healthcare, Ins and Life Sciences',\n",
       "   'yearBorn': 1971,\n",
       "   'fiscalYear': 2023,\n",
       "   'totalPay': 126842,\n",
       "   'exercisedValue': 0,\n",
       "   'unexercisedValue': 0},\n",
       "  {'maxAge': 1,\n",
       "   'name': 'Mr. Karmesh Gul Vaswani',\n",
       "   'age': 51,\n",
       "   'title': 'Executive VP & Segment Head of CPG, Logistics & Retail',\n",
       "   'yearBorn': 1972,\n",
       "   'fiscalYear': 2023,\n",
       "   'exercisedValue': 0,\n",
       "   'unexercisedValue': 0},\n",
       "  {'maxAge': 1,\n",
       "   'name': 'Mr. Jasmeet  Singh',\n",
       "   'title': 'Executive VP & Segment Head of Manufacturing',\n",
       "   'fiscalYear': 2023,\n",
       "   'exercisedValue': 0,\n",
       "   'unexercisedValue': 0},\n",
       "  {'maxAge': 1,\n",
       "   'name': 'Ms. Martha G. King',\n",
       "   'title': 'Executive VP & Chief Client Officer',\n",
       "   'fiscalYear': 2023,\n",
       "   'exercisedValue': 0,\n",
       "   'unexercisedValue': 0},\n",
       "  {'maxAge': 1,\n",
       "   'name': 'Mr. Frank Lord Satterthwaite',\n",
       "   'age': 60,\n",
       "   'title': 'Senior Vice President of Delivery, FSHIL',\n",
       "   'yearBorn': 1963,\n",
       "   'fiscalYear': 2023,\n",
       "   'exercisedValue': 0,\n",
       "   'unexercisedValue': 0},\n",
       "  {'maxAge': 1,\n",
       "   'name': 'Mr. Jayesh  Sanghrajka',\n",
       "   'age': 49,\n",
       "   'title': 'Chief Financial Officer',\n",
       "   'yearBorn': 1974,\n",
       "   'fiscalYear': 2023,\n",
       "   'totalPay': 179019,\n",
       "   'exercisedValue': 0,\n",
       "   'unexercisedValue': 0}],\n",
       " 'auditRisk': 6,\n",
       " 'boardRisk': 2,\n",
       " 'compensationRisk': 5,\n",
       " 'shareHolderRightsRisk': 1,\n",
       " 'overallRisk': 2,\n",
       " 'governanceEpochDate': 1717200000,\n",
       " 'compensationAsOfEpochDate': 1703980800,\n",
       " 'irWebsite': 'http://www.infosys.com/investors/pages/index.aspx',\n",
       " 'maxAge': 86400,\n",
       " 'priceHint': 2,\n",
       " 'previousClose': 17.84,\n",
       " 'open': 17.81,\n",
       " 'dayLow': 17.6,\n",
       " 'dayHigh': 17.82,\n",
       " 'regularMarketPreviousClose': 17.84,\n",
       " 'regularMarketOpen': 17.81,\n",
       " 'regularMarketDayLow': 17.6,\n",
       " 'regularMarketDayHigh': 17.82,\n",
       " 'dividendRate': 0.55,\n",
       " 'dividendYield': 0.0309,\n",
       " 'exDividendDate': 1717113600,\n",
       " 'payoutRatio': 0.5646,\n",
       " 'fiveYearAvgDividendYield': 2.17,\n",
       " 'beta': 0.546,\n",
       " 'trailingPE': 23.407896,\n",
       " 'forwardPE': 21.695124,\n",
       " 'volume': 5700732,\n",
       " 'regularMarketVolume': 5700732,\n",
       " 'averageVolume': 10481132,\n",
       " 'averageVolume10days': 9554710,\n",
       " 'averageDailyVolume10Day': 9554710,\n",
       " 'bidSize': 21500,\n",
       " 'askSize': 21500,\n",
       " 'marketCap': 74143031296,\n",
       " 'fiftyTwoWeekLow': 15.12,\n",
       " 'fiftyTwoWeekHigh': 20.74,\n",
       " 'priceToSalesTrailing12Months': 3.9943447,\n",
       " 'fiftyDayAverage': 17.2222,\n",
       " 'twoHundredDayAverage': 18.002,\n",
       " 'trailingAnnualDividendRate': 0.46,\n",
       " 'trailingAnnualDividendYield': 0.025784753,\n",
       " 'currency': 'USD',\n",
       " 'enterpriseValue': 71583719424,\n",
       " 'profitMargins': 0.17062001,\n",
       " 'floatShares': 3580726103,\n",
       " 'sharesOutstanding': 4140979968,\n",
       " 'sharesShort': 79953723,\n",
       " 'sharesShortPriorMonth': 52109913,\n",
       " 'sharesShortPreviousMonthDate': 1713139200,\n",
       " 'dateShortInterest': 1715731200,\n",
       " 'sharesPercentSharesOut': 0.019299999,\n",
       " 'heldPercentInstitutions': 0.12825,\n",
       " 'shortRatio': 7.46,\n",
       " 'impliedSharesOutstanding': 4167680000,\n",
       " 'bookValue': 2.551,\n",
       " 'priceToBook': 6.973736,\n",
       " 'lastFiscalYearEnd': 1711843200,\n",
       " 'nextFiscalYearEnd': 1743379200,\n",
       " 'mostRecentQuarter': 1711843200,\n",
       " 'earningsQuarterlyGrowth': 0.289,\n",
       " 'netIncomeToCommon': 3167000064,\n",
       " 'trailingEps': 0.76,\n",
       " 'forwardEps': 0.82,\n",
       " 'pegRatio': 1.58,\n",
       " 'lastSplitFactor': '2:1',\n",
       " 'lastSplitDate': 1536710400,\n",
       " 'enterpriseToRevenue': 3.856,\n",
       " 'enterpriseToEbitda': 17.019,\n",
       " '52WeekChange': 0.14652956,\n",
       " 'SandP52WeekChange': 0.22599876,\n",
       " 'lastDividendValue': 0.335,\n",
       " 'lastDividendDate': 1717113600,\n",
       " 'exchange': 'NYQ',\n",
       " 'quoteType': 'EQUITY',\n",
       " 'symbol': 'INFY',\n",
       " 'underlyingSymbol': 'INFY',\n",
       " 'shortName': 'Infosys Limited',\n",
       " 'longName': 'Infosys Limited',\n",
       " 'firstTradeDateEpochUtc': 921162600,\n",
       " 'timeZoneFullName': 'America/New_York',\n",
       " 'timeZoneShortName': 'EDT',\n",
       " 'uuid': 'ba2e8c5e-5629-394a-a562-9c7ea21f5056',\n",
       " 'messageBoardId': 'finmb_398006',\n",
       " 'gmtOffSetMilliseconds': -14400000,\n",
       " 'currentPrice': 17.79,\n",
       " 'targetHighPrice': 23.0,\n",
       " 'targetLowPrice': 14.0,\n",
       " 'targetMeanPrice': 19.38,\n",
       " 'targetMedianPrice': 19.8,\n",
       " 'recommendationMean': 2.3,\n",
       " 'recommendationKey': 'buy',\n",
       " 'numberOfAnalystOpinions': 13,\n",
       " 'totalCash': 3320999936,\n",
       " 'totalCashPerShare': 0.802,\n",
       " 'ebitda': 4206000128,\n",
       " 'totalDebt': 1002000000,\n",
       " 'quickRatio': 2.0,\n",
       " 'currentRatio': 2.305,\n",
       " 'totalRevenue': 18562000896,\n",
       " 'debtToEquity': 9.448,\n",
       " 'revenuePerShare': 2.2425,\n",
       " 'returnOnAssets': 0.15054,\n",
       " 'returnOnEquity': 0.31963,\n",
       " 'freeCashflow': 1440249984,\n",
       " 'operatingCashflow': 3148000000,\n",
       " 'earningsGrowth': 0.276,\n",
       " 'revenueGrowth': 0.002,\n",
       " 'grossMargins': 0.29447,\n",
       " 'ebitdaMargins': 0.22659001,\n",
       " 'operatingMargins': 0.20087999,\n",
       " 'financialCurrency': 'USD',\n",
       " 'trailingPegRatio': 2.7323}"
      ]
     },
     "execution_count": 79,
     "metadata": {},
     "output_type": "execute_result"
    }
   ],
   "source": [
    "infy = yf.Ticker('INFY')\n",
    "infy.info"
   ]
  },
  {
   "cell_type": "code",
   "execution_count": 80,
   "metadata": {},
   "outputs": [
    {
     "name": "stdout",
     "output_type": "stream",
     "text": [
      "                                Open       High        Low      Close  \\\n",
      "Date                                                                    \n",
      "2024-05-13 00:00:00-04:00  16.603611  16.701625  16.554602  16.584007   \n",
      "2024-05-14 00:00:00-04:00  16.662417  16.672219  16.525198  16.613411   \n",
      "2024-05-15 00:00:00-04:00  16.682021  16.789835  16.525198  16.711424   \n",
      "2024-05-16 00:00:00-04:00  16.868247  16.946660  16.809439  16.897652   \n",
      "2024-05-17 00:00:00-04:00  16.809438  16.829042  16.682021  16.789835   \n",
      "2024-05-20 00:00:00-04:00  16.819240  16.878048  16.770234  16.789835   \n",
      "2024-05-21 00:00:00-04:00  16.721227  16.770235  16.662419  16.672220   \n",
      "2024-05-22 00:00:00-04:00  16.917256  16.966262  16.848646  16.927057   \n",
      "2024-05-23 00:00:00-04:00  17.093680  17.172092  17.025071  17.054474   \n",
      "2024-05-24 00:00:00-04:00  17.054475  17.132886  16.985865  17.015270   \n",
      "2024-05-28 00:00:00-04:00  16.966261  17.044672  16.927056  16.976063   \n",
      "2024-05-29 00:00:00-04:00  16.780035  16.809438  16.662417  16.691822   \n",
      "2024-05-30 00:00:00-04:00  16.574205  16.623211  16.436985  16.535000   \n",
      "2024-05-31 00:00:00-04:00  16.730000  16.820000  16.430000  16.750000   \n",
      "2024-06-03 00:00:00-04:00  16.870001  16.900000  16.680000  16.850000   \n",
      "2024-06-04 00:00:00-04:00  16.690001  16.799999  16.559999  16.799999   \n",
      "2024-06-05 00:00:00-04:00  17.090000  17.180000  17.000000  17.150000   \n",
      "2024-06-06 00:00:00-04:00  17.430000  17.549999  17.389999  17.540001   \n",
      "2024-06-07 00:00:00-04:00  18.059999  18.170000  17.910000  18.010000   \n",
      "2024-06-10 00:00:00-04:00  17.709999  17.870001  17.650000  17.840000   \n",
      "2024-06-11 00:00:00-04:00  17.809999  17.820000  17.600000  17.790001   \n",
      "\n",
      "                             Volume  Dividends  Stock Splits  \n",
      "Date                                                          \n",
      "2024-05-13 00:00:00-04:00   5923300      0.000           0.0  \n",
      "2024-05-14 00:00:00-04:00   9395500      0.000           0.0  \n",
      "2024-05-15 00:00:00-04:00   4019700      0.000           0.0  \n",
      "2024-05-16 00:00:00-04:00  10753400      0.000           0.0  \n",
      "2024-05-17 00:00:00-04:00   7986000      0.000           0.0  \n",
      "2024-05-20 00:00:00-04:00   6096100      0.000           0.0  \n",
      "2024-05-21 00:00:00-04:00   7889700      0.000           0.0  \n",
      "2024-05-22 00:00:00-04:00   8385600      0.000           0.0  \n",
      "2024-05-23 00:00:00-04:00   9249300      0.000           0.0  \n",
      "2024-05-24 00:00:00-04:00   9241000      0.000           0.0  \n",
      "2024-05-28 00:00:00-04:00  11508000      0.000           0.0  \n",
      "2024-05-29 00:00:00-04:00   8563800      0.000           0.0  \n",
      "2024-05-30 00:00:00-04:00  11351700      0.000           0.0  \n",
      "2024-05-31 00:00:00-04:00  14253800      0.335           0.0  \n",
      "2024-06-03 00:00:00-04:00   8585300      0.000           0.0  \n",
      "2024-06-04 00:00:00-04:00   8822800      0.000           0.0  \n",
      "2024-06-05 00:00:00-04:00   7513200      0.000           0.0  \n",
      "2024-06-06 00:00:00-04:00   7386000      0.000           0.0  \n",
      "2024-06-07 00:00:00-04:00  11158200      0.000           0.0  \n",
      "2024-06-10 00:00:00-04:00   6404300      0.000           0.0  \n",
      "2024-06-11 00:00:00-04:00   5700732      0.000           0.0  \n"
     ]
    }
   ],
   "source": [
    "hist = infy.history(period=\"1mo\")\n",
    "print(hist)"
   ]
  },
  {
   "cell_type": "code",
   "execution_count": 81,
   "metadata": {},
   "outputs": [
    {
     "data": {
      "text/plain": [
       "{'currency': 'USD',\n",
       " 'symbol': 'INFY',\n",
       " 'exchangeName': 'NYQ',\n",
       " 'fullExchangeName': 'NYSE',\n",
       " 'instrumentType': 'EQUITY',\n",
       " 'firstTradeDate': 921162600,\n",
       " 'regularMarketTime': 1718136002,\n",
       " 'hasPrePostMarketData': True,\n",
       " 'gmtoffset': -14400,\n",
       " 'timezone': 'EDT',\n",
       " 'exchangeTimezoneName': 'America/New_York',\n",
       " 'regularMarketPrice': 17.79,\n",
       " 'fiftyTwoWeekHigh': 17.82,\n",
       " 'fiftyTwoWeekLow': 17.6,\n",
       " 'regularMarketDayHigh': 17.82,\n",
       " 'regularMarketDayLow': 17.6,\n",
       " 'regularMarketVolume': 5700732,\n",
       " 'chartPreviousClose': 16.87,\n",
       " 'priceHint': 2,\n",
       " 'currentTradingPeriod': {'pre': {'timezone': 'EDT',\n",
       "   'end': 1718199000,\n",
       "   'start': 1718179200,\n",
       "   'gmtoffset': -14400},\n",
       "  'regular': {'timezone': 'EDT',\n",
       "   'end': 1718222400,\n",
       "   'start': 1718199000,\n",
       "   'gmtoffset': -14400},\n",
       "  'post': {'timezone': 'EDT',\n",
       "   'end': 1718236800,\n",
       "   'start': 1718222400,\n",
       "   'gmtoffset': -14400}},\n",
       " 'dataGranularity': '1d',\n",
       " 'range': '1mo',\n",
       " 'validRanges': ['1d',\n",
       "  '5d',\n",
       "  '1mo',\n",
       "  '3mo',\n",
       "  '6mo',\n",
       "  '1y',\n",
       "  '2y',\n",
       "  '5y',\n",
       "  '10y',\n",
       "  'ytd',\n",
       "  'max']}"
      ]
     },
     "execution_count": 81,
     "metadata": {},
     "output_type": "execute_result"
    }
   ],
   "source": [
    "infy.history_metadata"
   ]
  },
  {
   "cell_type": "code",
   "execution_count": 82,
   "metadata": {},
   "outputs": [
    {
     "data": {
      "text/html": [
       "<div>\n",
       "<style scoped>\n",
       "    .dataframe tbody tr th:only-of-type {\n",
       "        vertical-align: middle;\n",
       "    }\n",
       "\n",
       "    .dataframe tbody tr th {\n",
       "        vertical-align: top;\n",
       "    }\n",
       "\n",
       "    .dataframe thead th {\n",
       "        text-align: right;\n",
       "    }\n",
       "</style>\n",
       "<table border=\"1\" class=\"dataframe\">\n",
       "  <thead>\n",
       "    <tr style=\"text-align: right;\">\n",
       "      <th></th>\n",
       "      <th>Dividends</th>\n",
       "      <th>Stock Splits</th>\n",
       "    </tr>\n",
       "    <tr>\n",
       "      <th>Date</th>\n",
       "      <th></th>\n",
       "      <th></th>\n",
       "    </tr>\n",
       "  </thead>\n",
       "  <tbody>\n",
       "    <tr>\n",
       "      <th>2024-05-31 00:00:00-04:00</th>\n",
       "      <td>0.335</td>\n",
       "      <td>0.0</td>\n",
       "    </tr>\n",
       "  </tbody>\n",
       "</table>\n",
       "</div>"
      ],
      "text/plain": [
       "                           Dividends  Stock Splits\n",
       "Date                                              \n",
       "2024-05-31 00:00:00-04:00      0.335           0.0"
      ]
     },
     "execution_count": 82,
     "metadata": {},
     "output_type": "execute_result"
    }
   ],
   "source": [
    "infy.actions"
   ]
  },
  {
   "cell_type": "code",
   "execution_count": 83,
   "metadata": {},
   "outputs": [
    {
     "data": {
      "text/plain": [
       "Date\n",
       "2024-05-31 00:00:00-04:00    0.335\n",
       "Name: Dividends, dtype: float64"
      ]
     },
     "execution_count": 83,
     "metadata": {},
     "output_type": "execute_result"
    }
   ],
   "source": [
    "infy.dividends"
   ]
  },
  {
   "cell_type": "code",
   "execution_count": 84,
   "metadata": {},
   "outputs": [
    {
     "data": {
      "text/plain": [
       "Series([], Name: Stock Splits, dtype: float64)"
      ]
     },
     "execution_count": 84,
     "metadata": {},
     "output_type": "execute_result"
    }
   ],
   "source": [
    "infy.splits"
   ]
  },
  {
   "cell_type": "code",
   "execution_count": 85,
   "metadata": {},
   "outputs": [
    {
     "data": {
      "text/plain": [
       "Series([], dtype: object)"
      ]
     },
     "execution_count": 85,
     "metadata": {},
     "output_type": "execute_result"
    }
   ],
   "source": [
    "infy.capital_gains"
   ]
  },
  {
   "cell_type": "code",
   "execution_count": 86,
   "metadata": {},
   "outputs": [],
   "source": [
    "infy.history(start='2014-01-01', end='2022-12-31').to_csv('Data/INFY-train.csv')"
   ]
  },
  {
   "cell_type": "code",
   "execution_count": 87,
   "metadata": {},
   "outputs": [],
   "source": [
    "infy.history(start='2023-01-01', end='2023-12-31').to_csv('Data/INFY-test.csv')"
   ]
  },
  {
   "cell_type": "code",
   "execution_count": 6,
   "metadata": {},
   "outputs": [],
   "source": [
    "import pandas as pd\n",
    "import numpy as np\n",
    "import seaborn as sns\n",
    "import matplotlib.pyplot as plt"
   ]
  },
  {
   "cell_type": "code",
   "execution_count": 89,
   "metadata": {},
   "outputs": [
    {
     "data": {
      "text/html": [
       "<div>\n",
       "<style scoped>\n",
       "    .dataframe tbody tr th:only-of-type {\n",
       "        vertical-align: middle;\n",
       "    }\n",
       "\n",
       "    .dataframe tbody tr th {\n",
       "        vertical-align: top;\n",
       "    }\n",
       "\n",
       "    .dataframe thead th {\n",
       "        text-align: right;\n",
       "    }\n",
       "</style>\n",
       "<table border=\"1\" class=\"dataframe\">\n",
       "  <thead>\n",
       "    <tr style=\"text-align: right;\">\n",
       "      <th></th>\n",
       "      <th>Date</th>\n",
       "      <th>Open</th>\n",
       "      <th>High</th>\n",
       "      <th>Low</th>\n",
       "      <th>Close</th>\n",
       "      <th>Volume</th>\n",
       "      <th>Dividends</th>\n",
       "      <th>Stock Splits</th>\n",
       "    </tr>\n",
       "  </thead>\n",
       "  <tbody>\n",
       "    <tr>\n",
       "      <th>0</th>\n",
       "      <td>2014-01-02 00:00:00-05:00</td>\n",
       "      <td>5.347247</td>\n",
       "      <td>5.347247</td>\n",
       "      <td>5.267395</td>\n",
       "      <td>5.278802</td>\n",
       "      <td>3642400</td>\n",
       "      <td>0.0</td>\n",
       "      <td>0.0</td>\n",
       "    </tr>\n",
       "    <tr>\n",
       "      <th>1</th>\n",
       "      <td>2014-01-03 00:00:00-05:00</td>\n",
       "      <td>5.432804</td>\n",
       "      <td>5.473681</td>\n",
       "      <td>5.408088</td>\n",
       "      <td>5.432804</td>\n",
       "      <td>8421600</td>\n",
       "      <td>0.0</td>\n",
       "      <td>0.0</td>\n",
       "    </tr>\n",
       "    <tr>\n",
       "      <th>2</th>\n",
       "      <td>2014-01-06 00:00:00-05:00</td>\n",
       "      <td>5.408087</td>\n",
       "      <td>5.409989</td>\n",
       "      <td>5.339643</td>\n",
       "      <td>5.352952</td>\n",
       "      <td>4820000</td>\n",
       "      <td>0.0</td>\n",
       "      <td>0.0</td>\n",
       "    </tr>\n",
       "    <tr>\n",
       "      <th>3</th>\n",
       "      <td>2014-01-07 00:00:00-05:00</td>\n",
       "      <td>5.305420</td>\n",
       "      <td>5.360556</td>\n",
       "      <td>5.290210</td>\n",
       "      <td>5.332037</td>\n",
       "      <td>6201600</td>\n",
       "      <td>0.0</td>\n",
       "      <td>0.0</td>\n",
       "    </tr>\n",
       "    <tr>\n",
       "      <th>4</th>\n",
       "      <td>2014-01-08 00:00:00-05:00</td>\n",
       "      <td>5.275950</td>\n",
       "      <td>5.300666</td>\n",
       "      <td>5.251234</td>\n",
       "      <td>5.300666</td>\n",
       "      <td>9640000</td>\n",
       "      <td>0.0</td>\n",
       "      <td>0.0</td>\n",
       "    </tr>\n",
       "  </tbody>\n",
       "</table>\n",
       "</div>"
      ],
      "text/plain": [
       "                        Date      Open      High       Low     Close   Volume  \\\n",
       "0  2014-01-02 00:00:00-05:00  5.347247  5.347247  5.267395  5.278802  3642400   \n",
       "1  2014-01-03 00:00:00-05:00  5.432804  5.473681  5.408088  5.432804  8421600   \n",
       "2  2014-01-06 00:00:00-05:00  5.408087  5.409989  5.339643  5.352952  4820000   \n",
       "3  2014-01-07 00:00:00-05:00  5.305420  5.360556  5.290210  5.332037  6201600   \n",
       "4  2014-01-08 00:00:00-05:00  5.275950  5.300666  5.251234  5.300666  9640000   \n",
       "\n",
       "   Dividends  Stock Splits  \n",
       "0        0.0           0.0  \n",
       "1        0.0           0.0  \n",
       "2        0.0           0.0  \n",
       "3        0.0           0.0  \n",
       "4        0.0           0.0  "
      ]
     },
     "execution_count": 89,
     "metadata": {},
     "output_type": "execute_result"
    }
   ],
   "source": [
    "df_infy_train = pd.read_csv('Data/INFY-train.csv')\n",
    "df_infy_train.head()"
   ]
  },
  {
   "cell_type": "code",
   "execution_count": 90,
   "metadata": {},
   "outputs": [],
   "source": [
    "df_infy_train = df_infy_train.drop(['Dividends', 'Stock Splits'], axis=1)"
   ]
  },
  {
   "cell_type": "code",
   "execution_count": 91,
   "metadata": {},
   "outputs": [
    {
     "data": {
      "text/html": [
       "<div>\n",
       "<style scoped>\n",
       "    .dataframe tbody tr th:only-of-type {\n",
       "        vertical-align: middle;\n",
       "    }\n",
       "\n",
       "    .dataframe tbody tr th {\n",
       "        vertical-align: top;\n",
       "    }\n",
       "\n",
       "    .dataframe thead th {\n",
       "        text-align: right;\n",
       "    }\n",
       "</style>\n",
       "<table border=\"1\" class=\"dataframe\">\n",
       "  <thead>\n",
       "    <tr style=\"text-align: right;\">\n",
       "      <th></th>\n",
       "      <th>Date</th>\n",
       "      <th>Open</th>\n",
       "      <th>High</th>\n",
       "      <th>Low</th>\n",
       "      <th>Close</th>\n",
       "      <th>Volume</th>\n",
       "    </tr>\n",
       "  </thead>\n",
       "  <tbody>\n",
       "    <tr>\n",
       "      <th>0</th>\n",
       "      <td>2014-01-02 00:00:00-05:00</td>\n",
       "      <td>5.347247</td>\n",
       "      <td>5.347247</td>\n",
       "      <td>5.267395</td>\n",
       "      <td>5.278802</td>\n",
       "      <td>3642400</td>\n",
       "    </tr>\n",
       "    <tr>\n",
       "      <th>1</th>\n",
       "      <td>2014-01-03 00:00:00-05:00</td>\n",
       "      <td>5.432804</td>\n",
       "      <td>5.473681</td>\n",
       "      <td>5.408088</td>\n",
       "      <td>5.432804</td>\n",
       "      <td>8421600</td>\n",
       "    </tr>\n",
       "    <tr>\n",
       "      <th>2</th>\n",
       "      <td>2014-01-06 00:00:00-05:00</td>\n",
       "      <td>5.408087</td>\n",
       "      <td>5.409989</td>\n",
       "      <td>5.339643</td>\n",
       "      <td>5.352952</td>\n",
       "      <td>4820000</td>\n",
       "    </tr>\n",
       "    <tr>\n",
       "      <th>3</th>\n",
       "      <td>2014-01-07 00:00:00-05:00</td>\n",
       "      <td>5.305420</td>\n",
       "      <td>5.360556</td>\n",
       "      <td>5.290210</td>\n",
       "      <td>5.332037</td>\n",
       "      <td>6201600</td>\n",
       "    </tr>\n",
       "    <tr>\n",
       "      <th>4</th>\n",
       "      <td>2014-01-08 00:00:00-05:00</td>\n",
       "      <td>5.275950</td>\n",
       "      <td>5.300666</td>\n",
       "      <td>5.251234</td>\n",
       "      <td>5.300666</td>\n",
       "      <td>9640000</td>\n",
       "    </tr>\n",
       "  </tbody>\n",
       "</table>\n",
       "</div>"
      ],
      "text/plain": [
       "                        Date      Open      High       Low     Close   Volume\n",
       "0  2014-01-02 00:00:00-05:00  5.347247  5.347247  5.267395  5.278802  3642400\n",
       "1  2014-01-03 00:00:00-05:00  5.432804  5.473681  5.408088  5.432804  8421600\n",
       "2  2014-01-06 00:00:00-05:00  5.408087  5.409989  5.339643  5.352952  4820000\n",
       "3  2014-01-07 00:00:00-05:00  5.305420  5.360556  5.290210  5.332037  6201600\n",
       "4  2014-01-08 00:00:00-05:00  5.275950  5.300666  5.251234  5.300666  9640000"
      ]
     },
     "execution_count": 91,
     "metadata": {},
     "output_type": "execute_result"
    }
   ],
   "source": [
    "df_infy_train.head()"
   ]
  },
  {
   "cell_type": "code",
   "execution_count": 92,
   "metadata": {},
   "outputs": [
    {
     "name": "stdout",
     "output_type": "stream",
     "text": [
      "<class 'pandas.core.frame.DataFrame'>\n",
      "RangeIndex: 2266 entries, 0 to 2265\n",
      "Data columns (total 6 columns):\n",
      " #   Column  Non-Null Count  Dtype  \n",
      "---  ------  --------------  -----  \n",
      " 0   Date    2266 non-null   object \n",
      " 1   Open    2266 non-null   float64\n",
      " 2   High    2266 non-null   float64\n",
      " 3   Low     2266 non-null   float64\n",
      " 4   Close   2266 non-null   float64\n",
      " 5   Volume  2266 non-null   int64  \n",
      "dtypes: float64(4), int64(1), object(1)\n",
      "memory usage: 106.3+ KB\n"
     ]
    }
   ],
   "source": [
    "df_infy_train.info()"
   ]
  },
  {
   "cell_type": "code",
   "execution_count": 93,
   "metadata": {},
   "outputs": [],
   "source": [
    "df_infy_train['Volume'] = df_infy_train['Volume'].astype(np.float64)\n",
    "df_infy_train['Date'] = pd.to_datetime(df_infy_train['Date'])"
   ]
  },
  {
   "cell_type": "code",
   "execution_count": 94,
   "metadata": {},
   "outputs": [
    {
     "name": "stdout",
     "output_type": "stream",
     "text": [
      "<class 'pandas.core.frame.DataFrame'>\n",
      "RangeIndex: 2266 entries, 0 to 2265\n",
      "Data columns (total 6 columns):\n",
      " #   Column  Non-Null Count  Dtype  \n",
      "---  ------  --------------  -----  \n",
      " 0   Date    2266 non-null   object \n",
      " 1   Open    2266 non-null   float64\n",
      " 2   High    2266 non-null   float64\n",
      " 3   Low     2266 non-null   float64\n",
      " 4   Close   2266 non-null   float64\n",
      " 5   Volume  2266 non-null   float64\n",
      "dtypes: float64(5), object(1)\n",
      "memory usage: 106.3+ KB\n"
     ]
    }
   ],
   "source": [
    "df_infy_train.info()"
   ]
  },
  {
   "cell_type": "code",
   "execution_count": 95,
   "metadata": {},
   "outputs": [],
   "source": [
    "df_infy_test = pd.read_csv('Data/INFY-test.csv')\n",
    "df_infy_test = df_infy_test.drop(['Dividends', 'Stock Splits'], axis=1)\n",
    "df_infy_test['Volume'] = df_infy_test['Volume'].astype(np.float64)\n",
    "df_infy_test['Date'] = pd.to_datetime(df_infy_test['Date'])"
   ]
  },
  {
   "cell_type": "code",
   "execution_count": 96,
   "metadata": {},
   "outputs": [
    {
     "data": {
      "text/html": [
       "<div>\n",
       "<style scoped>\n",
       "    .dataframe tbody tr th:only-of-type {\n",
       "        vertical-align: middle;\n",
       "    }\n",
       "\n",
       "    .dataframe tbody tr th {\n",
       "        vertical-align: top;\n",
       "    }\n",
       "\n",
       "    .dataframe thead th {\n",
       "        text-align: right;\n",
       "    }\n",
       "</style>\n",
       "<table border=\"1\" class=\"dataframe\">\n",
       "  <thead>\n",
       "    <tr style=\"text-align: right;\">\n",
       "      <th></th>\n",
       "      <th>Date</th>\n",
       "      <th>Open</th>\n",
       "      <th>High</th>\n",
       "      <th>Low</th>\n",
       "      <th>Close</th>\n",
       "      <th>Volume</th>\n",
       "    </tr>\n",
       "  </thead>\n",
       "  <tbody>\n",
       "    <tr>\n",
       "      <th>0</th>\n",
       "      <td>2023-01-03 00:00:00-05:00</td>\n",
       "      <td>17.354864</td>\n",
       "      <td>17.517148</td>\n",
       "      <td>17.240309</td>\n",
       "      <td>17.402594</td>\n",
       "      <td>11041400.0</td>\n",
       "    </tr>\n",
       "    <tr>\n",
       "      <th>1</th>\n",
       "      <td>2023-01-04 00:00:00-05:00</td>\n",
       "      <td>17.125758</td>\n",
       "      <td>17.345318</td>\n",
       "      <td>17.049389</td>\n",
       "      <td>17.278496</td>\n",
       "      <td>10440400.0</td>\n",
       "    </tr>\n",
       "    <tr>\n",
       "      <th>2</th>\n",
       "      <td>2023-01-05 00:00:00-05:00</td>\n",
       "      <td>17.001655</td>\n",
       "      <td>17.058933</td>\n",
       "      <td>16.877556</td>\n",
       "      <td>16.877556</td>\n",
       "      <td>6420300.0</td>\n",
       "    </tr>\n",
       "    <tr>\n",
       "      <th>3</th>\n",
       "      <td>2023-01-06 00:00:00-05:00</td>\n",
       "      <td>16.734365</td>\n",
       "      <td>17.030295</td>\n",
       "      <td>16.677087</td>\n",
       "      <td>17.001656</td>\n",
       "      <td>8915600.0</td>\n",
       "    </tr>\n",
       "    <tr>\n",
       "      <th>4</th>\n",
       "      <td>2023-01-09 00:00:00-05:00</td>\n",
       "      <td>17.268950</td>\n",
       "      <td>17.412142</td>\n",
       "      <td>17.173489</td>\n",
       "      <td>17.183035</td>\n",
       "      <td>10778100.0</td>\n",
       "    </tr>\n",
       "  </tbody>\n",
       "</table>\n",
       "</div>"
      ],
      "text/plain": [
       "                        Date       Open       High        Low      Close  \\\n",
       "0  2023-01-03 00:00:00-05:00  17.354864  17.517148  17.240309  17.402594   \n",
       "1  2023-01-04 00:00:00-05:00  17.125758  17.345318  17.049389  17.278496   \n",
       "2  2023-01-05 00:00:00-05:00  17.001655  17.058933  16.877556  16.877556   \n",
       "3  2023-01-06 00:00:00-05:00  16.734365  17.030295  16.677087  17.001656   \n",
       "4  2023-01-09 00:00:00-05:00  17.268950  17.412142  17.173489  17.183035   \n",
       "\n",
       "       Volume  \n",
       "0  11041400.0  \n",
       "1  10440400.0  \n",
       "2   6420300.0  \n",
       "3   8915600.0  \n",
       "4  10778100.0  "
      ]
     },
     "execution_count": 96,
     "metadata": {},
     "output_type": "execute_result"
    }
   ],
   "source": [
    "df_infy_test.head()"
   ]
  },
  {
   "cell_type": "code",
   "execution_count": 97,
   "metadata": {},
   "outputs": [
    {
     "name": "stdout",
     "output_type": "stream",
     "text": [
      "<class 'pandas.core.frame.DataFrame'>\n",
      "RangeIndex: 250 entries, 0 to 249\n",
      "Data columns (total 6 columns):\n",
      " #   Column  Non-Null Count  Dtype  \n",
      "---  ------  --------------  -----  \n",
      " 0   Date    250 non-null    object \n",
      " 1   Open    250 non-null    float64\n",
      " 2   High    250 non-null    float64\n",
      " 3   Low     250 non-null    float64\n",
      " 4   Close   250 non-null    float64\n",
      " 5   Volume  250 non-null    float64\n",
      "dtypes: float64(5), object(1)\n",
      "memory usage: 11.8+ KB\n"
     ]
    }
   ],
   "source": [
    "df_infy_test.info()"
   ]
  }
 ],
 "metadata": {
  "kernelspec": {
   "display_name": "pytorch",
   "language": "python",
   "name": "python3"
  },
  "language_info": {
   "codemirror_mode": {
    "name": "ipython",
    "version": 3
   },
   "file_extension": ".py",
   "mimetype": "text/x-python",
   "name": "python",
   "nbconvert_exporter": "python",
   "pygments_lexer": "ipython3",
   "version": "3.10.14"
  }
 },
 "nbformat": 4,
 "nbformat_minor": 2
}
